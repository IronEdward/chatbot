{
 "cells": [
  {
   "cell_type": "code",
   "execution_count": 1,
   "metadata": {},
   "outputs": [
    {
     "name": "stderr",
     "output_type": "stream",
     "text": [
      "Using TensorFlow backend.\n"
     ]
    },
    {
     "name": "stdout",
     "output_type": "stream",
     "text": [
      "\u001b[92mLoading [200D GloVe] Module...\u001b[0m\n",
      "\u001b[96mLoaded [200D GloVe] Module.\u001b[0m\n",
      "\u001b[92mLoading [300D GloVe] Module...\u001b[0m\n",
      "\u001b[96mLoaded [300D GloVe] Module.\u001b[0m\n",
      "\u001b[92mLoading [300D GloVe Words] Module...\u001b[0m\n",
      "\u001b[96mLoaded [300D GloVe Words] Module.\u001b[0m\n",
      "\u001b[92mLoading [300D GloVe Values] Module...\u001b[0m\n",
      "\u001b[96mLoaded [300D GloVe Values] Module.\u001b[0m\n",
      "\u001b[92mLoading [300D GloVe KDTree] Module...\u001b[0m\n",
      "\u001b[96mLoaded [300D GloVe KDTree] Module.\u001b[0m\n",
      "\u001b[92mLoading [Emotion Classifier] Module...\u001b[0m\n",
      "_________________________________________________________________\n",
      "Layer (type)                 Output Shape              Param #   \n",
      "=================================================================\n",
      "lstm_1 (LSTM)                (None, 75)                82800     \n",
      "_________________________________________________________________\n",
      "dense_1 (Dense)              (None, 8)                 608       \n",
      "=================================================================\n",
      "Total params: 83,408\n",
      "Trainable params: 83,408\n",
      "Non-trainable params: 0\n",
      "_________________________________________________________________\n",
      "Loaded model from disk.\n",
      "\u001b[96mLoaded [Emotion Classifier] Module.\u001b[0m\n",
      "\u001b[92mLoading [Query Type Classifier] Module...\u001b[0m\n",
      "__________________________________________________________________________________________________\n",
      "Layer (type)                    Output Shape         Param #     Connected to                     \n",
      "==================================================================================================\n",
      "input_1 (InputLayer)            (None, None, 300)    0                                            \n",
      "__________________________________________________________________________________________________\n",
      "lstm_2 (LSTM)                   (None, 100)          160400      input_1[0][0]                    \n",
      "__________________________________________________________________________________________________\n",
      "dense_2 (Dense)                 (None, 200)          20200       lstm_2[0][0]                     \n",
      "__________________________________________________________________________________________________\n",
      "dense_3 (Dense)                 (None, 200)          20200       lstm_2[0][0]                     \n",
      "__________________________________________________________________________________________________\n",
      "lambda_1 (Lambda)               (None, 200)          0           dense_2[0][0]                    \n",
      "                                                                 dense_3[0][0]                    \n",
      "__________________________________________________________________________________________________\n",
      "lambda_2 (Lambda)               (None, None, 200)    0           lambda_1[0][0]                   \n",
      "                                                                 input_1[0][0]                    \n",
      "__________________________________________________________________________________________________\n",
      "lstm_3 (LSTM)                   (None, None, 100)    120400      lambda_2[0][0]                   \n",
      "__________________________________________________________________________________________________\n",
      "lstm_4 (LSTM)                   (None, None, 300)    481200      lstm_3[0][0]                     \n",
      "==================================================================================================\n",
      "Total params: 802,400\n",
      "Trainable params: 802,400\n",
      "Non-trainable params: 0\n",
      "__________________________________________________________________________________________________\n",
      "\u001b[96mLoaded [Query Type Classifier] Module.\u001b[0m\n",
      "\u001b[92mLoading [Keyword Extractor] Module...\u001b[0m\n",
      "\u001b[96mLoaded [Keyword Extractor] Module.\u001b[0m\n",
      "\u001b[92mLoading [Chatbot Self-assertion] Module...\u001b[0m\n",
      "__________________________________________________________________________________________________\n",
      "Layer (type)                    Output Shape         Param #     Connected to                     \n",
      "==================================================================================================\n",
      "input_3 (InputLayer)            (None, None, 200)    0                                            \n",
      "__________________________________________________________________________________________________\n",
      "lstm_5 (LSTM)                   (None, 128)          168448      input_3[0][0]                    \n",
      "__________________________________________________________________________________________________\n",
      "dense_4 (Dense)                 (None, 64)           8256        lstm_5[0][0]                     \n",
      "__________________________________________________________________________________________________\n",
      "dense_5 (Dense)                 (None, 64)           8256        lstm_5[0][0]                     \n",
      "__________________________________________________________________________________________________\n",
      "lambda_3 (Lambda)               (None, 64)           0           dense_4[0][0]                    \n",
      "                                                                 dense_5[0][0]                    \n",
      "__________________________________________________________________________________________________\n",
      "lambda_4 (Lambda)               (None, None, 64)     0           lambda_3[0][0]                   \n",
      "                                                                 input_3[0][0]                    \n",
      "__________________________________________________________________________________________________\n",
      "lstm_6 (LSTM)                   (None, None, 128)    98816       lambda_4[0][0]                   \n",
      "__________________________________________________________________________________________________\n",
      "lstm_7 (LSTM)                   (None, None, 200)    263200      lstm_6[0][0]                     \n",
      "==================================================================================================\n",
      "Total params: 546,976\n",
      "Trainable params: 546,976\n",
      "Non-trainable params: 0\n",
      "__________________________________________________________________________________________________\n",
      "\u001b[96mLoaded [Chatbot Self-assertion] Module.\u001b[0m\n",
      "\u001b[92mLoading [Latent Dimention Mapper] Module...\u001b[0m\n",
      "_________________________________________________________________\n",
      "Layer (type)                 Output Shape              Param #   \n",
      "=================================================================\n",
      "dense_6 (Dense)              (None, 100)               6500      \n",
      "_________________________________________________________________\n",
      "dense_7 (Dense)              (None, 200)               20200     \n",
      "=================================================================\n",
      "Total params: 26,700\n",
      "Trainable params: 26,700\n",
      "Non-trainable params: 0\n",
      "_________________________________________________________________\n",
      "\u001b[96mLoaded [Latent Dimention Mapper] Module.\u001b[0m\n",
      "\u001b[92mLoading [Training output] Module...\u001b[0m\n",
      "__________________________________________________________________________________________________\n",
      "Layer (type)                    Output Shape         Param #     Connected to                     \n",
      "==================================================================================================\n",
      "input_5 (InputLayer)            (None, 20, 300)      0                                            \n",
      "__________________________________________________________________________________________________\n",
      "lstm_8 (LSTM)                   (None, 100)          160400      input_5[0][0]                    \n",
      "__________________________________________________________________________________________________\n",
      "dense_8 (Dense)                 (None, 200)          20200       lstm_8[0][0]                     \n",
      "__________________________________________________________________________________________________\n",
      "dense_9 (Dense)                 (None, 200)          20200       lstm_8[0][0]                     \n",
      "__________________________________________________________________________________________________\n",
      "lambda_5 (Lambda)               (None, 200)          0           dense_8[0][0]                    \n",
      "                                                                 dense_9[0][0]                    \n",
      "__________________________________________________________________________________________________\n",
      "repeat_vector_5 (RepeatVector)  (None, 20, 200)      0           lambda_5[0][0]                   \n",
      "__________________________________________________________________________________________________\n",
      "lstm_9 (LSTM)                   (None, 20, 100)      120400      repeat_vector_5[0][0]            \n",
      "__________________________________________________________________________________________________\n",
      "lstm_10 (LSTM)                  (None, 20, 300)      481200      lstm_9[0][0]                     \n",
      "==================================================================================================\n",
      "Total params: 802,400\n",
      "Trainable params: 802,400\n",
      "Non-trainable params: 0\n",
      "__________________________________________________________________________________________________\n"
     ]
    },
    {
     "name": "stdout",
     "output_type": "stream",
     "text": [
      "\u001b[96mLoaded [Training output] Module.\u001b[0m\n"
     ]
    }
   ],
   "source": [
    "from chatbot import Chatbot\n",
    "import numpy as np\n",
    "from functions import *\n",
    "from sklearn import decomposition\n",
    "import matplotlib.pyplot as plt\n",
    "from matplotlib import offsetbox\n",
    "\n",
    "bot = Chatbot(mode=3)\n",
    "file = open(\"easy_train.txt\", \"r\")\n",
    "output = []\n",
    "\n",
    "for sentence in file.readlines():\n",
    "    output.append(bot.predict_latent_mapping(sentence)[0])"
   ]
  },
  {
   "cell_type": "code",
   "execution_count": 6,
   "metadata": {},
   "outputs": [
    {
     "name": "stdout",
     "output_type": "stream",
     "text": [
      "[[1.0000000e+00 6.4554811e-01]\n",
      " [9.2797804e-01 2.9472202e-01]\n",
      " [6.9688684e-01 5.4506660e-01]\n",
      " [0.0000000e+00 4.8857704e-01]\n",
      " [1.3907427e-01 7.9187089e-01]\n",
      " [5.7248163e-01 2.7889761e-01]\n",
      " [3.9802632e-01 9.0769585e-04]\n",
      " [4.3597201e-01 6.6873860e-01]\n",
      " [4.2093548e-01 1.0000000e+00]\n",
      " [7.3683709e-01 8.8251746e-01]\n",
      " [7.4546260e-01 0.0000000e+00]\n",
      " [1.0301334e-01 1.4732586e-01]\n",
      " [3.0940819e-01 4.0139279e-01]]\n"
     ]
    },
    {
     "data": {
      "image/png": "[encoded data removed]",
      "text/plain": [
       "<matplotlib.figure.Figure at 0x7fb8edc5c860>"
      ]
     },
     "metadata": {},
     "output_type": "display_data"
    }
   ],
   "source": [
    "from sklearn import manifold, discriminant_analysis\n",
    "\n",
    "def embedding_plot(X, title):\n",
    "    x_min, x_max = np.min(X, axis=0), np.max(X, axis=0)\n",
    "    X = (X - x_min) / (x_max - x_min)\n",
    "    print(X)\n",
    "    plt.figure()\n",
    "    ax = plt.subplot(aspect='equal')\n",
    "    sc = ax.scatter(X[:,0], X[:,1])\n",
    "    for i in range(len(X)):\n",
    "        ax.annotate(str(i), X[i])\n",
    "\n",
    "    #shown_images = np.array([[1., 1.]])\n",
    "    #for i in range(X.shape[0]):\n",
    "    #    if np.min(np.sum((X[i] - shown_images) ** 2, axis=1)) < 1e-2: continue\n",
    "    #    shown_images = np.r_[shown_images, [X[i]]]\n",
    "        #ax.add_artist(offsetbox.AnchoredText(str(i), X[i]))\n",
    "\n",
    "    plt.xticks([]), plt.yticks([])\n",
    "    plt.title(title)\n",
    "\n",
    "X_tsne = manifold.TSNE(n_components=2, init='pca').fit_transform(output)\n",
    "embedding_plot(X_tsne,\"t-SNE\")\n",
    "\n",
    "plt.show()"
   ]
  },
  {
   "cell_type": "code",
   "execution_count": null,
   "metadata": {
    "collapsed": true
   },
   "outputs": [],
   "source": []
  }
 ],
 "metadata": {
  "kernelspec": {
   "display_name": "Python 3",
   "language": "python",
   "name": "python3"
  },
  "language_info": {
   "codemirror_mode": {
    "name": "ipython",
    "version": 3
   },
   "file_extension": ".py",
   "mimetype": "text/x-python",
   "name": "python",
   "nbconvert_exporter": "python",
   "pygments_lexer": "ipython3",
   "version": "3.6.1"
  }
 },
 "nbformat": 4,
 "nbformat_minor": 2
}
